{
 "cells": [
  {
   "cell_type": "code",
   "execution_count": 1,
   "metadata": {
    "colab": {
     "base_uri": "https://localhost:8080/",
     "height": 1000
    },
    "colab_type": "code",
    "executionInfo": {
     "elapsed": 24789,
     "status": "ok",
     "timestamp": 1591309721819,
     "user": {
      "displayName": "Bertrand Louis Rene Delorme",
      "photoUrl": "https://lh3.googleusercontent.com/a-/AOh14GgrufLA52L0fjbVpKjbdY1s-d96wShnuvxDw50M=s64",
      "userId": "08612462099386003536"
     },
     "user_tz": 420
    },
    "id": "7BtoC8CQUQlq",
    "outputId": "da55628e-9638-4a9e-f39b-b097c301250a"
   },
   "outputs": [
    {
     "name": "stdout",
     "output_type": "stream",
     "text": [
      "FOLDERNAME =/home/bdelorme/RainfallNowcasting/Radar/\n"
     ]
    }
   ],
   "source": [
    "import os\n",
    "FOLDERNAME = os.getcwd()+'/'\n",
    "print('FOLDERNAME =' + FOLDERNAME)\n",
    "#\n",
    "import numpy as np\n",
    "import tensorflow as tf\n",
    "import csv\n",
    "#\n",
    "import sys\n",
    "sys.path.append(FOLDERNAME+'scripts/')\n",
    "#\n",
    "from data_lab import *\n",
    "from utils import *\n",
    "from models import *\n",
    "from metrics import *\n",
    "from plot_tools import *"
   ]
  },
  {
   "cell_type": "code",
   "execution_count": 2,
   "metadata": {
    "colab": {},
    "colab_type": "code",
    "id": "NfWa7giDxxMj"
   },
   "outputs": [],
   "source": [
    "#########################################################################################\n",
    "################################## EXPERIMENT FEATURES ##################################\n",
    "#########################################################################################\n",
    "nom_test = 'rainfall_only'      # NAME OF THE CURRENT TEST\n",
    "archi = 'ddnet'                 # NETWORK ARCHITECTURE\n",
    "new_size = [64,64]              # SIZE DATA (None = keep initial size)\n",
    "bs = 10                         # BATCH SIZE\n",
    "ep = 2                          # NB EPOCHS\n",
    "\n",
    "\n",
    "#########################################################################################\n",
    "#################################### NETWORK FEATURES ###################################\n",
    "#########################################################################################\n",
    "loss = 'logcosh'\n",
    "optimizer = tf.keras.optimizers.Adam(lr=1e-4)\n",
    "nk = 128\n",
    "ks = 5\n",
    "lks = 3\n",
    "if archi=='convdlrm':\n",
    "    activ = 'selu'\n",
    "    init = 'lecun_normal'\n",
    "elif archi=='ddnet':\n",
    "    activ = 'relu'\n",
    "    init = 'he_normal'\n",
    "    \n",
    "    \n",
    "#########################################################################################\n",
    "################################## CALLBACKS & METRICS ##################################\n",
    "#########################################################################################\n",
    "csv_logger = tf.keras.callbacks.CSVLogger('models/'+archi+'_'+nom_test+'_train.csv')\n",
    "term_nan = tf.keras.callbacks.TerminateOnNaN()\n",
    "early_stopping = tf.keras.callbacks.EarlyStopping(monitor='val_loss', patience=3)\n",
    "callbacks_list = [term_nan, csv_logger, early_stopping]\n",
    "#reduce_lr = tf.keras.callbacks.ReduceLROnPlateau(monitor='val_loss', patience=3, factor=0.5)\n",
    "#callbacks_list = [term_nan, reduce_lr, csv_logger, early_stopping]\n",
    "#\n",
    "metrics_list = ['acc', ssim, psnr, cor,\n",
    "                tf.keras.metrics.Precision(name='prec'),\n",
    "                tf.keras.metrics.Recall(name='recall')]   \n",
    "\n",
    "    \n",
    "#########################################################################################\n",
    "#################################### GLOBAL FEATURES ####################################\n",
    "#########################################################################################\n",
    "zone = \"NW\"                           # NW, SE\n",
    "years = [2017]                        # 2016, 2017, 2018\n",
    "months = [8]                          # 1...12\n",
    "parts_month = [3]                     # 1,2,3 (each month is divided in 3 parts)\n",
    "input_timeframes = 10                 # how many timeframes for input\n",
    "output_timeframes = 5                 # how many timeframes for output\n",
    "overlapping_data = 0                  # data overlap in time (= 1) or not (= 0)\n",
    "fraction_test = 0.1                   # fraction of test data\n",
    "rainfall_threshold_value = 80         # Value above which values are considered to be one\n",
    "\n",
    "\n",
    "#########################################################################################\n",
    "################################## ADDITIONAL FEATURES ##################################\n",
    "#########################################################################################\n",
    "features_bool = {'reflectivity': 0, \n",
    "                 'rainfall quality': 0,\n",
    "                 'land sea': 0, \n",
    "                 'elevation': 0}\n",
    "features_max_threshold = {'reflectivity': 60, \n",
    "                          'rainfall quality': 100, \n",
    "                          'land sea': 1, \n",
    "                          'elevation': 629}\n",
    "features_min_threshold = {'reflectivity': 0, \n",
    "                          'rainfall quality': 0, \n",
    "                          'land sea': 0, \n",
    "                          'elevation': 0}\n",
    "#\n",
    "wf_model = None # None for no model, otherwise arpege\n",
    "weather_model_bool = {'temperature': 1, \n",
    "                      'dew point temperature' : 1,\n",
    "                      'humidity': 1, \n",
    "                      'wind speed': 1, \n",
    "                      'wind directions': 1,\n",
    "                      'wind components': 1, \n",
    "                      'pressure': 1,\n",
    "                      'precipitation': 1}\n",
    "weather_model_max_threshold = {'temperature': 313, \n",
    "                               'dew point temperature' : 313,\n",
    "                               'humidity': 100, \n",
    "                               'wind speed': 35, \n",
    "                               'wind directions': 360,\n",
    "                               'wind components': 35, \n",
    "                               'pressure': 105000,\n",
    "                               'precipitation': rainfall_threshold_value}\n",
    "weather_model_min_threshold = {'temperature': 263, \n",
    "                               'dew point temperature' : 263,\n",
    "                               'humidity': 0, \n",
    "                               'wind speed': 0, \n",
    "                               'wind directions': 0,\n",
    "                               'wind components': -35, \n",
    "                               'pressure': 96000,\n",
    "                               'precipitation': 0}\n",
    "#########################################################################################\n",
    "#########################################################################################\n",
    "#########################################################################################"
   ]
  },
  {
   "cell_type": "code",
   "execution_count": 3,
   "metadata": {
    "colab": {
     "base_uri": "https://localhost:8080/",
     "height": 1000
    },
    "colab_type": "code",
    "executionInfo": {
     "elapsed": 38581,
     "status": "ok",
     "timestamp": 1591310341349,
     "user": {
      "displayName": "Bertrand Louis Rene Delorme",
      "photoUrl": "https://lh3.googleusercontent.com/a-/AOh14GgrufLA52L0fjbVpKjbdY1s-d96wShnuvxDw50M=s64",
      "userId": "08612462099386003536"
     },
     "user_tz": 420
    },
    "id": "e3uEK6YV4VUf",
    "outputId": "1de49386-e58c-44e6-a098-7038ead4a3e5"
   },
   "outputs": [
    {
     "name": "stdout",
     "output_type": "stream",
     "text": [
      "Year: 2017 Month: 8 Part of the month: 3, Done !\n",
      "Got rainfall\n",
      "X shape = (211, 10, 64, 64, 1)\n",
      "y shape = (211, 5, 64, 64, 1)\n",
      "Additional features: []\n"
     ]
    }
   ],
   "source": [
    "#########################################################################################\n",
    "####################################### MAKE DATA #######################################\n",
    "#########################################################################################\n",
    "data_dir = FOLDERNAME+'MeteoNet/'\n",
    "X, y, features_list = get_data_and_features(data_dir, zone, years, months, parts_month, \n",
    "                                            new_size, input_timeframes, output_timeframes,\n",
    "                                            fraction_test, rainfall_threshold_value, \n",
    "                                            features_bool, weather_model_bool, wf_model,\n",
    "                                            weather_model_max_threshold, weather_model_min_threshold,\n",
    "                                            features_max_threshold, features_min_threshold,\n",
    "                                            overlapping_data)\n",
    "print('X shape = ({0}, {1}, {2}, {3}, {4})'.format(X.shape[0],X.shape[1],X.shape[2],X.shape[3],X.shape[4]))\n",
    "print('y shape = ({0}, {1}, {2}, {3}, {4})'.format(y.shape[0],y.shape[1],y.shape[2],y.shape[3],y.shape[4]))\n",
    "print('Additional features: [%s]' % ', '.join(features_list))\n",
    "X, y, X_test, y_test = split_train_test(fraction_test, X, y)\n",
    "print('X_train shape = ({0}, {1}, {2}, {3}, {4})'.format(X.shape[0],X.shape[1],X.shape[2],X.shape[3],X.shape[4]))\n",
    "print('y_train shape = ({0}, {1}, {2}, {3}, {4})'.format(y.shape[0],y.shape[1],y.shape[2],y.shape[3],y.shape[4]))\n",
    "print('X_test shape = ({0}, {1}, {2}, {3}, {4})'.format(X_test.shape[0],X_test.shape[1],X_test.shape[2],X_test.shape[3],X_test.shape[4]))\n",
    "print('y_test shape = ({0}, {1}, {2}, {3}, {4})'.format(y_test.shape[0],y_test.shape[1],y_test.shape[2],y_test.shape[3],y_test.shape[4]))\n",
    "if archi=='ddnet':\n",
    "    X_content = get_content_data(X)\n",
    "    X_content_test = get_content_data(X_test)\n",
    "N, T, H, W, C = X.shape"
   ]
  },
  {
   "cell_type": "code",
   "execution_count": 5,
   "metadata": {
    "colab": {
     "base_uri": "https://localhost:8080/",
     "height": 1000
    },
    "colab_type": "code",
    "executionInfo": {
     "elapsed": 597530,
     "status": "ok",
     "timestamp": 1591311152288,
     "user": {
      "displayName": "Bertrand Louis Rene Delorme",
      "photoUrl": "https://lh3.googleusercontent.com/a-/AOh14GgrufLA52L0fjbVpKjbdY1s-d96wShnuvxDw50M=s64",
      "userId": "08612462099386003536"
     },
     "user_tz": 420
    },
    "id": "duzQNAhhufup",
    "outputId": "6794e871-3f7e-4883-e786-296a19631f5b"
   },
   "outputs": [
    {
     "name": "stdout",
     "output_type": "stream",
     "text": [
      "Epoch 1/2\n",
      "18/18 [==============================] - 67s 4s/step - loss: 0.0369 - acc: 0.8852 - ssim: 0.7920 - psnr: 10.6600 - cor: 0.0964 - prec: 0.2500 - recall: 2.4880e-06 - val_loss: 0.0363 - val_acc: 0.8990 - val_ssim: 0.8152 - val_psnr: 10.7592 - val_cor: 0.1293 - val_prec: 0.0000e+00 - val_recall: 0.0000e+00\n",
      "Epoch 2/2\n",
      "18/18 [==============================] - 63s 3s/step - loss: 0.0368 - acc: 0.8852 - ssim: 0.8306 - psnr: 10.6689 - cor: 0.0558 - prec: 0.0000e+00 - recall: 0.0000e+00 - val_loss: 0.0363 - val_acc: 0.8990 - val_ssim: 0.8201 - val_psnr: 10.7594 - val_cor: 0.0994 - val_prec: 0.0000e+00 - val_recall: 0.0000e+00\n",
      "3/3 [==============================] - 2s 620ms/step - loss: 0.0377 - acc: 0.8495 - ssim: 0.7717 - psnr: 10.5360 - cor: 0.0893 - prec: 0.0000e+00 - recall: 0.0000e+00\n"
     ]
    }
   ],
   "source": [
    "#########################################################################################\n",
    "###################################### INIT MODEL #######################################\n",
    "#########################################################################################\n",
    "if archi=='convdlrm':\n",
    "    model = convdlrm_init(H, W, C, output_timeframes, nk, ks, lks, activ, init)\n",
    "elif archi=='ddnet':\n",
    "    model = ddnet_init(H, W, C, output_timeframes, nk, ks, lks, activ, init)\n",
    "model.compile(optimizer=optimizer,\n",
    "              loss=loss,\n",
    "              metrics=metrics_list)\n",
    "\n",
    "#########################################################################################\n",
    "####################################### RUN MODEL #######################################\n",
    "#########################################################################################\n",
    "if archi=='convdlrm':\n",
    "    history = model.fit(X, y, \n",
    "                        batch_size=bs, \n",
    "                        epochs=ep,\n",
    "                        callbacks=callbacks_list,\n",
    "                        validation_split=0.1)\n",
    "    results = model.evaluate(X_test, y_test, batch_size=bs, return_dict=True)\n",
    "elif archi=='ddnet':\n",
    "    history = model.fit([X, X_content], y, \n",
    "                        batch_size=bs, \n",
    "                        epochs=ep,\n",
    "                        callbacks=callbacks_list,\n",
    "                        validation_split=0.1)\n",
    "    results = model.evaluate([X_test, X_content_test], y_test, batch_size=bs, return_dict=True)\n",
    "\n",
    "\n",
    "#########################################################################################\n",
    "###################################### SAVE MODEL #######################################\n",
    "#########################################################################################\n",
    "model.save('models/'+archi+'_'+nom_test+'.h5')\n",
    "with open('models/'+archi+'_'+nom_test+'_test.csv', 'w') as f:\n",
    "    w = csv.DictWriter(f, results.keys())\n",
    "    w.writeheader()\n",
    "    w.writerow(results)"
   ]
  },
  {
   "cell_type": "code",
   "execution_count": 6,
   "metadata": {
    "colab": {
     "base_uri": "https://localhost:8080/",
     "height": 1000
    },
    "colab_type": "code",
    "executionInfo": {
     "elapsed": 10151,
     "status": "ok",
     "timestamp": 1591311419138,
     "user": {
      "displayName": "Bertrand Louis Rene Delorme",
      "photoUrl": "https://lh3.googleusercontent.com/a-/AOh14GgrufLA52L0fjbVpKjbdY1s-d96wShnuvxDw50M=s64",
      "userId": "08612462099386003536"
     },
     "user_tz": 420
    },
    "id": "IsDN8BfoIXSc",
    "outputId": "a1d55948-9ea8-4efd-a653-e1437ffecfbb"
   },
   "outputs": [
    {
     "name": "stdout",
     "output_type": "stream",
     "text": [
      "/home/bdelorme/RainfallNowcasting/Radar/plots/ already exists\n"
     ]
    }
   ],
   "source": [
    "#########################################################################################\n",
    "######################################### PLOT ##########################################\n",
    "#########################################################################################\n",
    "# 1- History\n",
    "foldername = FOLDERNAME+'plots/'\n",
    "plot_history(history, results, archi, nom_test, save=True, foldername=foldername)"
   ]
  },
  {
   "cell_type": "code",
   "execution_count": 8,
   "metadata": {},
   "outputs": [
    {
     "name": "stdout",
     "output_type": "stream",
     "text": [
      "/home/bdelorme/RainfallNowcasting/Radar/plots/ already exists\n"
     ]
    },
    {
     "name": "stderr",
     "output_type": "stream",
     "text": [
      "/home/bdelorme/RainfallNowcasting/Radar/scripts/plot_tools.py:127: RuntimeWarning: More than 20 figures have been opened. Figures created through the pyplot interface (`matplotlib.pyplot.figure`) are retained until explicitly closed and may consume too much memory. (To control this warning, see the rcParam `figure.max_open_warning`).\n",
      "  plt.savefig(foldername+archi+'_'+nom_test+'_'+tag+'_%i.png' % (i+1))\n"
     ]
    }
   ],
   "source": [
    "# 2- Train Example\n",
    "itest = 3\n",
    "track = tf.expand_dims(X[itest,:,:,:,0], axis=-1)\n",
    "true_track = np.concatenate((track, y[itest]), axis=0)\n",
    "if archi == 'convdlrm':\n",
    "    track = np.concatenate((track[None,:,:,:,:], model.predict(X[itest][None,:,:,:,:])), axis=1)\n",
    "elif archi == 'ddnet':\n",
    "    track_m = X[itest]\n",
    "    track_c = X_content[itest]\n",
    "    track = np.concatenate((track[None,:,:,:,:], model.predict([track_m[None,:,:,:,:], track_c[None,:,:,:]])), axis=1)\n",
    "lat, lon = get_coords(data_dir, zone)\n",
    "plot_track(true_track, track, rainfall_threshold_value, \n",
    "           new_size, input_timeframes, output_timeframes, \n",
    "           lat, lon, archi, nom_test, tag='train', \n",
    "           save=True, foldername=foldername)"
   ]
  },
  {
   "cell_type": "code",
   "execution_count": 9,
   "metadata": {
    "colab": {},
    "colab_type": "code",
    "id": "k0bEVXj4qMBS"
   },
   "outputs": [
    {
     "name": "stdout",
     "output_type": "stream",
     "text": [
      "/home/bdelorme/RainfallNowcasting/Radar/plots/ already exists\n"
     ]
    }
   ],
   "source": [
    "# 3- Test Example\n",
    "itest = 3\n",
    "track = tf.expand_dims(X_test[itest,:,:,:,0], axis=-1)\n",
    "true_track = np.concatenate((track, y_test[itest]), axis=0)\n",
    "if archi == 'convdlrm':\n",
    "    track = np.concatenate((track[None,:,:,:,:], model.predict(X_test[itest][None,:,:,:,:])), axis=1)\n",
    "elif archi == 'ddnet':\n",
    "    track_m = X_test[itest]\n",
    "    track_c = X_content_test[itest]\n",
    "    track = np.concatenate((track[None,:,:,:,:], model.predict([track_m[None,:,:,:,:], track_c[None,:,:,:]])), axis=1)\n",
    "lat, lon = get_coords(data_dir, zone)\n",
    "plot_track(true_track, track, rainfall_threshold_value, \n",
    "           new_size, input_timeframes, output_timeframes, \n",
    "           lat, lon, archi, nom_test, tag='train', \n",
    "           save=True, foldername=foldername)"
   ]
  },
  {
   "cell_type": "code",
   "execution_count": null,
   "metadata": {},
   "outputs": [],
   "source": []
  }
 ],
 "metadata": {
  "accelerator": "GPU",
  "colab": {
   "collapsed_sections": [],
   "name": "run_model.ipynb",
   "provenance": []
  },
  "kernelspec": {
   "display_name": "Python 3",
   "language": "python",
   "name": "python3"
  },
  "language_info": {
   "codemirror_mode": {
    "name": "ipython",
    "version": 3
   },
   "file_extension": ".py",
   "mimetype": "text/x-python",
   "name": "python",
   "nbconvert_exporter": "python",
   "pygments_lexer": "ipython3",
   "version": "3.7.4"
  }
 },
 "nbformat": 4,
 "nbformat_minor": 1
}
